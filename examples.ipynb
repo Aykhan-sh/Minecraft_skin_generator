{
 "cells": [
  {
   "cell_type": "code",
   "execution_count": 1,
   "metadata": {},
   "outputs": [
    {
     "name": "stderr",
     "output_type": "stream",
     "text": [
      "/root/anaconda3/envs/album/lib/python3.10/site-packages/tqdm/auto.py:22: TqdmWarning: IProgress not found. Please update jupyter and ipywidgets. See https://ipywidgets.readthedocs.io/en/stable/user_install.html\n",
      "  from .autonotebook import tqdm as notebook_tqdm\n"
     ]
    }
   ],
   "source": [
    "from diffusers import LDMSuperResolutionPipeline\n",
    "from diffusers.pipelines.latent_diffusion.pipeline_latent_diffusion_superresolution import preprocess\n",
    "\n",
    "from dataset import CoverDataset\n",
    "from torch.utils.data import DataLoader\n",
    "import matplotlib.pyplot as plt\n",
    "from models import get_models\n",
    "import albumentations as A\n",
    "import torch\n",
    "from defs import *\n",
    "from diffusers import DDPMScheduler, DDPMPipeline\n",
    "from evaluate import evaluate, make_grid\n",
    "import numpy as np\n"
   ]
  },
  {
   "cell_type": "code",
   "execution_count": 19,
   "metadata": {},
   "outputs": [],
   "source": [
    "## Define models"
   ]
  },
  {
   "cell_type": "code",
   "execution_count": null,
   "metadata": {},
   "outputs": [],
   "source": [
    "DEVICE = 'cuda:2'\n",
    "SEED = 69\n"
   ]
  },
  {
   "cell_type": "code",
   "execution_count": null,
   "metadata": {},
   "outputs": [],
   "source": [
    "model = get_models(IMSIZE).to(DEVICE)\n",
    "model = model.from_pretrained('results/weights/unet')\n",
    "model.sample_size = 64\n",
    "model = model.to(DEVICE)\n",
    "model.eval()\n",
    "noise_scheduler = DDPMScheduler(num_train_timesteps=NUM_TRAIN_TIMESTEPS)\n",
    "\n",
    "pipeline = DDPMPipeline(unet=model, scheduler=noise_scheduler)\n",
    "generator = torch.Generator(device=DEVICE)\n",
    "generator = generator.manual_seed(SEED)\n",
    "images = pipeline(\n",
    "    batch_size=64,\n",
    "    generator=generator,\n",
    ").images"
   ]
  },
  {
   "cell_type": "code",
   "execution_count": null,
   "metadata": {},
   "outputs": [],
   "source": [
    "rescaler_id = \"CompVis/ldm-super-resolution-4x-openimages\"\n",
    "rescaler = LDMSuperResolutionPipeline.from_pretrained(rescaler_id)\n",
    "rescaler = rescaler.to(DEVICE)"
   ]
  },
  {
   "cell_type": "code",
   "execution_count": 2,
   "metadata": {},
   "outputs": [],
   "source": [
    "DEVICE = 'cuda:2'\n",
    "model = get_models(IMSIZE).to(DEVICE)\n",
    "model = model.from_pretrained('results/weights/unet')\n",
    "model.sample_size = 64\n",
    "model = model.to(DEVICE)\n",
    "model.eval()\n",
    "noise_scheduler = DDPMScheduler(num_train_timesteps=NUM_TRAIN_TIMESTEPS)"
   ]
  },
  {
   "cell_type": "code",
   "execution_count": 20,
   "metadata": {},
   "outputs": [
    {
     "name": "stderr",
     "output_type": "stream",
     "text": [
      "100%|██████████| 1000/1000 [00:56<00:00, 17.74it/s]\n",
      "100%|██████████| 100/100 [00:11<00:00,  8.76it/s]\n"
     ]
    }
   ],
   "source": [
    "pipeline = DDPMPipeline(unet=model, scheduler=noise_scheduler)\n",
    "generator = torch.Generator(device=DEVICE)\n",
    "generator = generator.manual_seed(SEED)\n",
    "images = pipeline(\n",
    "    batch_size=64,\n",
    "    generator=generator,\n",
    ").images\n",
    "\n",
    "images = [preprocess(i) for i in images]\n",
    "images = torch.cat(images)\n",
    "upscaled_images = rescaler(images, num_inference_steps=100, eta=1)"
   ]
  },
  {
   "cell_type": "code",
   "execution_count": 21,
   "metadata": {},
   "outputs": [],
   "source": [
    "grid = make_grid(upscaled_images.images, 8, 8)"
   ]
  }
 ],
 "metadata": {
  "kernelspec": {
   "display_name": "album",
   "language": "python",
   "name": "python3"
  },
  "language_info": {
   "codemirror_mode": {
    "name": "ipython",
    "version": 3
   },
   "file_extension": ".py",
   "mimetype": "text/x-python",
   "name": "python",
   "nbconvert_exporter": "python",
   "pygments_lexer": "ipython3",
   "version": "3.10.4"
  },
  "orig_nbformat": 4,
  "vscode": {
   "interpreter": {
    "hash": "44742a885003f444068e3bae74dd2f8f88ea515de7f91366057d02462e052105"
   }
  }
 },
 "nbformat": 4,
 "nbformat_minor": 2
}
